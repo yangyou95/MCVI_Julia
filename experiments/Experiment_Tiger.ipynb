{
 "cells": [
  {
   "cell_type": "code",
   "execution_count": 1,
   "metadata": {},
   "outputs": [
    {
     "data": {
      "text/plain": [
       "InsertNode (generic function with 1 method)"
      ]
     },
     "execution_count": 1,
     "metadata": {},
     "output_type": "execute_result"
    }
   ],
   "source": [
    "include(\"../../MCVI_Julia/src/Planner.jl\")\n",
    "# using Plots\n",
    "# using RockSample"
   ]
  },
  {
   "cell_type": "markdown",
   "metadata": {},
   "source": [
    "## 1. First prepare the POMDP and some basic parameters"
   ]
  },
  {
   "cell_type": "code",
   "execution_count": 2,
   "metadata": {},
   "outputs": [],
   "source": [
    "pomdp = TigerPOMDP()\n",
    "action_space = actions(pomdp)\n",
    "obs_space = observations(pomdp)\n",
    "\n",
    "nb_particles_b0 = 500\n",
    "max_node_size = 10000\n",
    "\n",
    "b0 = initialstate(pomdp)\n",
    "b0_particles = []\n",
    "for i in 1:nb_particles_b0\n",
    "    push!(b0_particles, rand(b0))\n",
    "end"
   ]
  },
  {
   "cell_type": "markdown",
   "metadata": {},
   "source": [
    "## 2. Prepare $V_{mdp}$ heuristic"
   ]
  },
  {
   "cell_type": "code",
   "execution_count": 3,
   "metadata": {},
   "outputs": [
    {
     "name": "stdout",
     "output_type": "stream",
     "text": [
      "------ Episode: 0 ------\n",
      "Avg Value: 199.99919396861742\n",
      "------ Episode: 1 ------\n",
      "Avg Value: 199.99999999999997\n"
     ]
    }
   ],
   "source": [
    "# define Q learning\n",
    "Q_table = Dict{Any, Dict{Int64, Float64}}()\n",
    "learning_rate = 0.9\n",
    "explore_rate = 0.65\n",
    "nb_particles_b0 = 10000\n",
    "\n",
    "b0_particles = []\n",
    "for i in 1:nb_particles_b0\n",
    "    push!(b0_particles, rand(b0))\n",
    "end\n",
    "Q_learning_policy = Qlearning(Q_table, learning_rate, explore_rate, action_space)\n",
    "RL = FindRLower(pomdp, b0, action_space)\n",
    "\n",
    "nb_episode_size = 10\n",
    "nb_max_episode = 10\n",
    "nb_sim = 20\n",
    "epsilon_Q_learning = 0.01\n",
    "Training(Q_learning_policy, nb_episode_size, nb_max_episode, nb_sim, epsilon_Q_learning, b0_particles, pomdp)"
   ]
  },
  {
   "cell_type": "markdown",
   "metadata": {},
   "source": [
    "## 3. Create initial FSC and belief Tree Node"
   ]
  },
  {
   "cell_type": "code",
   "execution_count": 4,
   "metadata": {},
   "outputs": [
    {
     "data": {
      "text/plain": [
       "FSC(Dict{Pair{Any, Any}, Int64}[Dict(), Dict(), Dict(), Dict(), Dict(), Dict(), Dict(), Dict(), Dict(), Dict()  …  Dict(), Dict(), Dict(), Dict(), Dict(), Dict(), Dict(), Dict(), Dict(), Dict()], FscNode[], 0:2, (false, true), 1)"
      ]
     },
     "execution_count": 4,
     "metadata": {},
     "output_type": "execute_result"
    }
   ],
   "source": [
    "a, U = EvaluateUpperBound(b0_particles, Q_learning_policy)\n",
    "root_b_tree_node = BeliefTreeNode(b0_particles, Dict{Pair{Any, Any}, BeliefTreeNode}(), a, Dict{Any, Float64}(), Dict{Any, Dict{Any, Float64}}(),U, RL, -1)\n",
    "fsc = InitFSC(max_node_size, action_space, obs_space)"
   ]
  },
  {
   "cell_type": "code",
   "execution_count": null,
   "metadata": {},
   "outputs": [
    {
     "name": "stdout",
     "output_type": "stream",
     "text": [
      "--- Iter 0 ---\n",
      "Tr_root upper bound:188.99999999999997\n",
      "Tr_root lower bound:-19.999999999999982\n",
      "Precision:208.99999999999994\n",
      "Belief Expand Process\n",
      "BackUp Process\n",
      "--- Iter 1 ---\n",
      "Tr_root upper bound:153.77762069826306\n",
      "Tr_root lower bound:8.192535947582732\n",
      "Precision:145.58508475068032\n",
      "Belief Expand Process\n",
      "BackUp Process\n",
      "--- Iter 2 ---\n",
      "Tr_root upper bound:137.70215600091947\n",
      "Tr_root lower bound:11.76667454855895\n",
      "Precision:125.93548145236052\n",
      "Belief Expand Process\n",
      "BackUp Process\n",
      "--- Iter 3 ---\n",
      "Tr_root upper bound:132.41241954539214\n",
      "Tr_root lower bound:13.585106876815278\n",
      "Precision:118.82731266857687\n",
      "Belief Expand Process\n",
      "BackUp Process\n",
      "--- Iter 4 ---\n",
      "Tr_root upper bound:127.86177951024169\n",
      "Tr_root lower bound:15.760924387402927\n",
      "Precision:112.10085512283877\n",
      "Belief Expand Process\n",
      "BackUp Process\n",
      "--- Iter 5 ---\n",
      "Tr_root upper bound:125.50621960360262\n",
      "Tr_root lower bound:15.982263229004632\n",
      "Precision:109.52395637459799\n",
      "Belief Expand Process\n",
      "BackUp Process\n",
      "--- Iter 6 ---\n",
      "Tr_root upper bound:129.10825136626502\n",
      "Tr_root lower bound:16.046363404702277\n",
      "Precision:113.06188796156275\n",
      "Belief Expand Process\n",
      "BackUp Process\n",
      "--- Iter 7 ---\n",
      "Tr_root upper bound:126.04010577210173\n",
      "Tr_root lower bound:16.92383304491302\n",
      "Precision:109.1162727271887\n",
      "Belief Expand Process\n",
      "BackUp Process\n",
      "--- Iter 8 ---\n",
      "Tr_root upper bound:125.40752062443636\n",
      "Tr_root lower bound:17.64760708311783\n",
      "Precision:107.75991354131853\n",
      "Belief Expand Process\n",
      "BackUp Process\n",
      "--- Iter 9 ---\n",
      "Tr_root upper bound:124.84304169753216\n",
      "Tr_root lower bound:17.36801205978919\n",
      "Precision:107.47502963774296\n",
      "Belief Expand Process\n",
      "BackUp Process\n",
      "--- Iter 10 ---\n",
      "Tr_root upper bound:119.86444957078866\n",
      "Tr_root lower bound:17.699886613524324\n",
      "Precision:102.16456295726434\n",
      "Belief Expand Process\n",
      "BackUp Process\n",
      "--- Iter 11 ---"
     ]
    }
   ],
   "source": [
    "MCVIPlanning(b0_particles, fsc, pomdp, RL, 40, 1000, 0.1, 30, Q_learning_policy, root_b_tree_node)"
   ]
  },
  {
   "cell_type": "code",
   "execution_count": null,
   "metadata": {},
   "outputs": [],
   "source": [
    "SimulationWithFSC(b0, pomdp, fsc, 20)"
   ]
  },
  {
   "cell_type": "code",
   "execution_count": null,
   "metadata": {},
   "outputs": [],
   "source": [
    "EvaluationWithSimulationFSC(b0, pomdp, fsc, discount(pomdp), 10000, 40)"
   ]
  },
  {
   "cell_type": "code",
   "execution_count": null,
   "metadata": {},
   "outputs": [],
   "source": []
  },
  {
   "cell_type": "code",
   "execution_count": null,
   "metadata": {},
   "outputs": [],
   "source": []
  }
 ],
 "metadata": {
  "kernelspec": {
   "display_name": "Julia 1.10.0",
   "language": "julia",
   "name": "julia-1.10"
  },
  "language_info": {
   "file_extension": ".jl",
   "mimetype": "application/julia",
   "name": "julia",
   "version": "1.10.0"
  }
 },
 "nbformat": 4,
 "nbformat_minor": 4
}
