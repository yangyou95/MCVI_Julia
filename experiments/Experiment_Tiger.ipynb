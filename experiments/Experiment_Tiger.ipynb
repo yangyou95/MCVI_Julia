{
 "cells": [
  {
   "cell_type": "code",
   "execution_count": 1,
   "metadata": {},
   "outputs": [
    {
     "data": {
      "text/plain": [
       "EvaluationWithSimulationFSC (generic function with 1 method)"
      ]
     },
     "execution_count": 1,
     "metadata": {},
     "output_type": "execute_result"
    }
   ],
   "source": [
    "include(\"../../MCVI_Julia/src/Planner.jl\")\n",
    "# using Plots\n",
    "# using RockSample"
   ]
  },
  {
   "cell_type": "markdown",
   "metadata": {},
   "source": [
    "## 1. First prepare the POMDP and some basic parameters"
   ]
  },
  {
   "cell_type": "code",
   "execution_count": 2,
   "metadata": {},
   "outputs": [],
   "source": [
    "pomdp = TigerPOMDP()\n",
    "action_space = actions(pomdp)\n",
    "obs_space = observations(pomdp)\n",
    "\n",
    "nb_particles_b0 = 500\n",
    "max_node_size = 10000\n",
    "\n",
    "b0 = initialstate(pomdp)\n",
    "b0_particles = []\n",
    "for i in 1:nb_particles_b0\n",
    "    push!(b0_particles, rand(b0))\n",
    "end"
   ]
  },
  {
   "cell_type": "markdown",
   "metadata": {},
   "source": [
    "## 2. Prepare $V_{mdp}$ heuristic"
   ]
  },
  {
   "cell_type": "code",
   "execution_count": 3,
   "metadata": {},
   "outputs": [
    {
     "name": "stdout",
     "output_type": "stream",
     "text": [
      "------ Episode: 0 ------\n",
      "Avg Value: 199.99892631073158\n",
      "------ Episode: 1 ------\n",
      "Avg Value: 199.99999999999997\n"
     ]
    }
   ],
   "source": [
    "# define Q learning\n",
    "Q_table = Dict{Any, Dict{Int64, Float64}}()\n",
    "learning_rate = 0.9\n",
    "explore_rate = 0.65\n",
    "nb_particles_b0 = 10000\n",
    "\n",
    "b0_particles = []\n",
    "for i in 1:nb_particles_b0\n",
    "    push!(b0_particles, rand(b0))\n",
    "end\n",
    "Q_learning_policy = Qlearning(Q_table, learning_rate, explore_rate, action_space)\n",
    "RL = FindRLower(pomdp, b0, action_space)\n",
    "\n",
    "nb_episode_size = 10\n",
    "nb_max_episode = 10\n",
    "nb_sim = 20\n",
    "epsilon_Q_learning = 0.01\n",
    "Training(Q_learning_policy, nb_episode_size, nb_max_episode, nb_sim, epsilon_Q_learning, b0_particles, pomdp)"
   ]
  },
  {
   "cell_type": "markdown",
   "metadata": {},
   "source": [
    "## 3. Create initial FSC and belief Tree Node"
   ]
  },
  {
   "cell_type": "code",
   "execution_count": 4,
   "metadata": {},
   "outputs": [
    {
     "data": {
      "text/plain": [
       "FSC(Dict{Pair{Any, Int64}, Int64}[Dict(), Dict(), Dict(), Dict(), Dict(), Dict(), Dict(), Dict(), Dict(), Dict()  …  Dict(), Dict(), Dict(), Dict(), Dict(), Dict(), Dict(), Dict(), Dict(), Dict()], FscNode[], 0:2, (false, true))"
      ]
     },
     "execution_count": 4,
     "metadata": {},
     "output_type": "execute_result"
    }
   ],
   "source": [
    "a, U = EvaluateUpperBound(b0_particles, Q_learning_policy)\n",
    "root_b_tree_node = BeliefTreeNode(b0_particles, Dict{Pair{Any, Any}, BeliefTreeNode}(), a, Dict{Any, Float64}(),U, RL, -1)\n",
    "fsc = InitFSC(max_node_size, action_space, obs_space)"
   ]
  },
  {
   "cell_type": "code",
   "execution_count": 5,
   "metadata": {},
   "outputs": [
    {
     "name": "stdout",
     "output_type": "stream",
     "text": [
      "--- Iter 1 ---\n",
      "Belief Expand Process\n",
      "BackUp Process\n",
      "nI_new 2, V 0.0\n"
     ]
    },
    {
     "ename": "LoadError",
     "evalue": "KeyError: key 0 => false not found",
     "output_type": "error",
     "traceback": [
      "KeyError: key 0 => false not found",
      "",
      "Stacktrace:",
      " [1] getindex(h::Dict{Pair{Any, Int64}, Int64}, key::Pair{Int64, Bool})",
      "   @ Base ./dict.jl:498",
      " [2] SimulateTrajectory(nI::Int64, fsc::FSC, s::Bool, L::Int64, pomdp::TigerPOMDP)",
      "   @ Main ~/MCVI_Julia/src/Planner.jl:44",
      " [3] BackUp(Tr_node::BeliefTreeNode, fsc::FSC, RL::Float64, L::Int64, nb_sample::Int64, pomdp::TigerPOMDP, action_space::UnitRange{Int64}, obs_space::Tuple{Bool, Bool})",
      "   @ Main ~/MCVI_Julia/src/Planner.jl:95",
      " [4] MCVIPlanning(b0::Vector{Any}, fsc::FSC, pomdp::TigerPOMDP, RL::Float64, L::Int64, nb_sample::Int64, epsilon::Float64, nb_iter::Int64, Q_learning_policy::Qlearning, Tr_root::BeliefTreeNode)",
      "   @ Main ~/MCVI_Julia/src/Planner.jl:152",
      " [5] top-level scope",
      "   @ In[5]:1"
     ]
    }
   ],
   "source": [
    "MCVIPlanning(b0_particles, fsc, pomdp, RL, 10, 1000, 0.1, 100, Q_learning_policy, root_b_tree_node)"
   ]
  },
  {
   "cell_type": "code",
   "execution_count": 6,
   "metadata": {},
   "outputs": [
    {
     "name": "stdout",
     "output_type": "stream",
     "text": [
      "---------\n",
      "step: 1\n",
      "state:true\n",
      "perform action:0\n",
      "recieve obs:true\n",
      "nI:1\n",
      "nI value:0.0\n"
     ]
    },
    {
     "ename": "LoadError",
     "evalue": "KeyError: key 0 => true not found",
     "output_type": "error",
     "traceback": [
      "KeyError: key 0 => true not found",
      "",
      "Stacktrace:",
      " [1] getindex(h::Dict{Pair{Any, Int64}, Int64}, key::Pair{Int64, Bool})",
      "   @ Base ./dict.jl:498",
      " [2] SimulationWithFSC(b0::BoolDistribution, pomdp::TigerPOMDP, fsc::FSC, steps::Int64)",
      "   @ Main ~/MCVI_Julia/src/Planner.jl:180",
      " [3] top-level scope",
      "   @ In[6]:1"
     ]
    }
   ],
   "source": [
    "SimulationWithFSC(b0, pomdp, fsc, 40)"
   ]
  },
  {
   "cell_type": "code",
   "execution_count": 7,
   "metadata": {},
   "outputs": [
    {
     "ename": "LoadError",
     "evalue": "KeyError: key 0 => false not found",
     "output_type": "error",
     "traceback": [
      "KeyError: key 0 => false not found",
      "",
      "Stacktrace:",
      " [1] getindex(h::Dict{Pair{Any, Int64}, Int64}, key::Pair{Int64, Bool})",
      "   @ Base ./dict.jl:498",
      " [2] EvaluationWithSimulationFSC(b0::BoolDistribution, pomdp::TigerPOMDP, fsc::FSC, discount::Float64, nb_sim::Int64)",
      "   @ Main ~/MCVI_Julia/src/Planner.jl:204",
      " [3] top-level scope",
      "   @ In[7]:1"
     ]
    }
   ],
   "source": [
    "EvaluationWithSimulationFSC(b0, pomdp, fsc, discount(pomdp), 10000)"
   ]
  },
  {
   "cell_type": "code",
   "execution_count": null,
   "metadata": {},
   "outputs": [],
   "source": []
  }
 ],
 "metadata": {
  "kernelspec": {
   "display_name": "Julia 1.10.0",
   "language": "julia",
   "name": "julia-1.10"
  },
  "language_info": {
   "file_extension": ".jl",
   "mimetype": "application/julia",
   "name": "julia",
   "version": "1.10.0"
  }
 },
 "nbformat": 4,
 "nbformat_minor": 4
}
