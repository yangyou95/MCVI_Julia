{
 "cells": [
  {
   "cell_type": "code",
   "execution_count": 1,
   "metadata": {},
   "outputs": [
    {
     "data": {
      "text/plain": [
       "InsertNode (generic function with 1 method)"
      ]
     },
     "execution_count": 1,
     "metadata": {},
     "output_type": "execute_result"
    }
   ],
   "source": [
    "include(\"../../MCVI_Julia/src/Planner.jl\")\n",
    "# using Plots\n",
    "# using RockSample"
   ]
  },
  {
   "cell_type": "markdown",
   "metadata": {},
   "source": [
    "## 1. First prepare the POMDP and some basic parameters"
   ]
  },
  {
   "cell_type": "code",
   "execution_count": 2,
   "metadata": {},
   "outputs": [],
   "source": [
    "pomdp = TigerPOMDP()\n",
    "action_space = actions(pomdp)\n",
    "obs_space = observations(pomdp)\n",
    "\n",
    "nb_particles_b0 = 500\n",
    "max_node_size = 10000\n",
    "\n",
    "b0 = initialstate(pomdp)\n",
    "b0_particles = []\n",
    "for i in 1:nb_particles_b0\n",
    "    push!(b0_particles, rand(b0))\n",
    "end"
   ]
  },
  {
   "cell_type": "markdown",
   "metadata": {},
   "source": [
    "## 2. Prepare $V_{mdp}$ heuristic"
   ]
  },
  {
   "cell_type": "code",
   "execution_count": 3,
   "metadata": {},
   "outputs": [
    {
     "name": "stdout",
     "output_type": "stream",
     "text": [
      "------ Episode: 0 ------\n",
      "Avg Value: 199.99894933081026\n",
      "------ Episode: 1 ------\n",
      "Avg Value: 199.99999999999997\n"
     ]
    }
   ],
   "source": [
    "# define Q learning\n",
    "Q_table = Dict{Any, Dict{Int64, Float64}}()\n",
    "learning_rate = 0.9\n",
    "explore_rate = 0.65\n",
    "nb_particles_b0 = 10000\n",
    "\n",
    "b0_particles = []\n",
    "for i in 1:nb_particles_b0\n",
    "    push!(b0_particles, rand(b0))\n",
    "end\n",
    "Q_learning_policy = Qlearning(Q_table, learning_rate, explore_rate, action_space)\n",
    "RL = FindRLower(pomdp, b0, action_space)\n",
    "\n",
    "nb_episode_size = 10\n",
    "nb_max_episode = 10\n",
    "nb_sim = 20\n",
    "epsilon_Q_learning = 0.01\n",
    "Training(Q_learning_policy, nb_episode_size, nb_max_episode, nb_sim, epsilon_Q_learning, b0_particles, pomdp)"
   ]
  },
  {
   "cell_type": "markdown",
   "metadata": {},
   "source": [
    "## 3. Create initial FSC and belief Tree Node"
   ]
  },
  {
   "cell_type": "code",
   "execution_count": 4,
   "metadata": {},
   "outputs": [
    {
     "data": {
      "text/plain": [
       "FSC(Dict{Pair{Any, Any}, Int64}[Dict(), Dict(), Dict(), Dict(), Dict(), Dict(), Dict(), Dict(), Dict(), Dict()  …  Dict(), Dict(), Dict(), Dict(), Dict(), Dict(), Dict(), Dict(), Dict(), Dict()], FscNode[], 0:2, (false, true), 1)"
      ]
     },
     "execution_count": 4,
     "metadata": {},
     "output_type": "execute_result"
    }
   ],
   "source": [
    "a, U = EvaluateUpperBound(b0_particles, Q_learning_policy)\n",
    "root_b_tree_node = BeliefTreeNode(b0_particles, Dict{Pair{Any, Any}, BeliefTreeNode}(), a, Dict{Any, Float64}(),U, RL, -1)\n",
    "fsc = InitFSC(max_node_size, action_space, obs_space)"
   ]
  },
  {
   "cell_type": "code",
   "execution_count": null,
   "metadata": {},
   "outputs": [
    {
     "name": "stdout",
     "output_type": "stream",
     "text": [
      "--- Iter 1 ---\n",
      "Tr_root upper bound:188.99999999999997\n",
      "Tr_root lower bound:-19.999999999999982\n",
      "Belief Expand Process\n",
      "BackUp Process\n",
      "--- Iter 2 ---\n",
      "Tr_root upper bound:188.99999999999997\n",
      "Tr_root lower bound:-67.37998051369165\n",
      "Belief Expand Process\n",
      "BackUp Process\n",
      "--- Iter 3 ---\n",
      "Tr_root upper bound:188.99999999999997\n",
      "Tr_root lower bound:0.7069885261256309\n",
      "Belief Expand Process\n",
      "BackUp Process\n",
      "--- Iter 4 ---\n",
      "Tr_root upper bound:188.99999999999997\n",
      "Tr_root lower bound:3.252093636988005\n",
      "Belief Expand Process\n",
      "BackUp Process\n",
      "--- Iter 5 ---\n",
      "Tr_root upper bound:188.99999999999997\n",
      "Tr_root lower bound:10.866454507638977\n",
      "Belief Expand Process\n",
      "BackUp Process\n",
      "--- Iter 6 ---\n",
      "Tr_root upper bound:188.99999999999997\n",
      "Tr_root lower bound:12.051959123820383\n",
      "Belief Expand Process\n",
      "BackUp Process\n",
      "--- Iter 7 ---\n",
      "Tr_root upper bound:188.99999999999997\n",
      "Tr_root lower bound:13.95361228146871\n",
      "Belief Expand Process\n",
      "BackUp Process\n",
      "--- Iter 8 ---\n",
      "Tr_root upper bound:188.99999999999997\n",
      "Tr_root lower bound:12.058443638889749\n",
      "Belief Expand Process\n",
      "BackUp Process\n",
      "--- Iter 9 ---\n",
      "Tr_root upper bound:188.99999999999997\n",
      "Tr_root lower bound:13.132366905111548\n",
      "Belief Expand Process\n",
      "BackUp Process\n",
      "--- Iter 10 ---\n",
      "Tr_root upper bound:188.99999999999997\n",
      "Tr_root lower bound:14.715757748838975\n",
      "Belief Expand Process\n",
      "BackUp Process\n",
      "--- Iter 11 ---\n",
      "Tr_root upper bound:188.99999999999997\n",
      "Tr_root lower bound:15.534717936722572\n",
      "Belief Expand Process\n",
      "BackUp Process\n",
      "--- Iter 12 ---\n",
      "Tr_root upper bound:188.99999999999997\n",
      "Tr_root lower bound:15.517230001730463\n",
      "Belief Expand Process\n",
      "BackUp Process\n",
      "--- Iter 13 ---\n",
      "Tr_root upper bound:188.99999999999997\n",
      "Tr_root lower bound:16.267645932478143\n",
      "Belief Expand Process\n",
      "BackUp Process\n",
      "--- Iter 14 ---\n",
      "Tr_root upper bound:188.99999999999997\n",
      "Tr_root lower bound:16.084946974653413\n",
      "Belief Expand Process\n",
      "BackUp Process\n",
      "--- Iter 15 ---\n",
      "Tr_root upper bound:188.99999999999997\n",
      "Tr_root lower bound:16.92018939783325\n",
      "Belief Expand Process\n",
      "BackUp Process\n",
      "--- Iter 16 ---\n",
      "Tr_root upper bound:188.99999999999997\n",
      "Tr_root lower bound:17.15151396677622\n",
      "Belief Expand Process\n",
      "BackUp Process\n",
      "--- Iter 17 ---\n",
      "Tr_root upper bound:188.99999999999997\n",
      "Tr_root lower bound:16.524874971590872\n",
      "Belief Expand Process\n",
      "BackUp Process\n",
      "--- Iter 18 ---\n",
      "Tr_root upper bound:188.99999999999997\n",
      "Tr_root lower bound:18.507404698156986\n",
      "Belief Expand Process\n",
      "BackUp Process\n",
      "--- Iter 19 ---\n",
      "Tr_root upper bound:188.99999999999997\n",
      "Tr_root lower bound:17.898636442130023\n",
      "Belief Expand Process\n",
      "BackUp Process\n"
     ]
    }
   ],
   "source": [
    "MCVIPlanning(b0_particles, fsc, pomdp, RL, 30, 200, 0.1, 30, Q_learning_policy, root_b_tree_node)"
   ]
  },
  {
   "cell_type": "code",
   "execution_count": null,
   "metadata": {},
   "outputs": [],
   "source": [
    "SimulationWithFSC(b0, pomdp, fsc, 20)"
   ]
  },
  {
   "cell_type": "code",
   "execution_count": null,
   "metadata": {},
   "outputs": [],
   "source": [
    "EvaluationWithSimulationFSC(b0, pomdp, fsc, discount(pomdp), 10000, 40)"
   ]
  },
  {
   "cell_type": "code",
   "execution_count": null,
   "metadata": {},
   "outputs": [],
   "source": []
  },
  {
   "cell_type": "code",
   "execution_count": null,
   "metadata": {},
   "outputs": [],
   "source": []
  }
 ],
 "metadata": {
  "kernelspec": {
   "display_name": "Julia 1.9.4",
   "language": "julia",
   "name": "julia-1.9"
  },
  "language_info": {
   "file_extension": ".jl",
   "mimetype": "application/julia",
   "name": "julia",
   "version": "1.9.4"
  }
 },
 "nbformat": 4,
 "nbformat_minor": 4
}
