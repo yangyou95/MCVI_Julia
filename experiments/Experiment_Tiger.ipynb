{
 "cells": [
  {
   "cell_type": "code",
   "execution_count": 1,
   "metadata": {},
   "outputs": [
    {
     "data": {
      "text/plain": [
       "InsertNode (generic function with 1 method)"
      ]
     },
     "execution_count": 1,
     "metadata": {},
     "output_type": "execute_result"
    }
   ],
   "source": [
    "include(\"../../MCVI_Julia/src/Planner.jl\")\n",
    "# using Plots\n",
    "# using RockSample"
   ]
  },
  {
   "cell_type": "markdown",
   "metadata": {},
   "source": [
    "## 1. First prepare the POMDP and some basic parameters"
   ]
  },
  {
   "cell_type": "code",
   "execution_count": 2,
   "metadata": {},
   "outputs": [],
   "source": [
    "pomdp = TigerPOMDP()\n",
    "action_space = actions(pomdp)\n",
    "obs_space = observations(pomdp)\n",
    "\n",
    "nb_particles_b0 = 500\n",
    "max_node_size = 10000\n",
    "\n",
    "b0 = initialstate(pomdp)\n",
    "b0_particles = []\n",
    "for i in 1:nb_particles_b0\n",
    "    push!(b0_particles, rand(b0))\n",
    "end"
   ]
  },
  {
   "cell_type": "markdown",
   "metadata": {},
   "source": [
    "## 2. Prepare $V_{mdp}$ heuristic"
   ]
  },
  {
   "cell_type": "code",
   "execution_count": 3,
   "metadata": {},
   "outputs": [
    {
     "name": "stdout",
     "output_type": "stream",
     "text": [
      "------ Episode: 0 ------\n",
      "Avg Value: 199.99880345854717\n",
      "------ Episode: 1 ------\n",
      "Avg Value: 199.99999999999997\n"
     ]
    }
   ],
   "source": [
    "# define Q learning\n",
    "Q_table = Dict{Any, Dict{Int64, Float64}}()\n",
    "learning_rate = 0.9\n",
    "explore_rate = 0.65\n",
    "nb_particles_b0 = 10000\n",
    "\n",
    "b0_particles = []\n",
    "for i in 1:nb_particles_b0\n",
    "    push!(b0_particles, rand(b0))\n",
    "end\n",
    "Q_learning_policy = Qlearning(Q_table, learning_rate, explore_rate, action_space)\n",
    "RL = FindRLower(pomdp, b0, action_space)\n",
    "\n",
    "nb_episode_size = 10\n",
    "nb_max_episode = 10\n",
    "nb_sim = 20\n",
    "epsilon_Q_learning = 0.01\n",
    "Training(Q_learning_policy, nb_episode_size, nb_max_episode, nb_sim, epsilon_Q_learning, b0_particles, pomdp)"
   ]
  },
  {
   "cell_type": "markdown",
   "metadata": {},
   "source": [
    "## 3. Create initial FSC and belief Tree Node"
   ]
  },
  {
   "cell_type": "code",
   "execution_count": 4,
   "metadata": {},
   "outputs": [
    {
     "data": {
      "text/plain": [
       "FSC(Dict{Pair{Any, Any}, Int64}[Dict(), Dict(), Dict(), Dict(), Dict(), Dict(), Dict(), Dict(), Dict(), Dict()  …  Dict(), Dict(), Dict(), Dict(), Dict(), Dict(), Dict(), Dict(), Dict(), Dict()], FscNode[], 0:2, (false, true), 1)"
      ]
     },
     "execution_count": 4,
     "metadata": {},
     "output_type": "execute_result"
    }
   ],
   "source": [
    "a, U = EvaluateUpperBound(b0_particles, Q_learning_policy)\n",
    "root_b_tree_node = BeliefTreeNode(b0_particles, Dict{Pair{Any, Any}, BeliefTreeNode}(), a, Dict{Any, Float64}(), Dict{Any, Dict{Any, Float64}}(),U, RL, -1)\n",
    "fsc = InitFSC(max_node_size, action_space, obs_space)"
   ]
  },
  {
   "cell_type": "code",
   "execution_count": null,
   "metadata": {},
   "outputs": [
    {
     "name": "stdout",
     "output_type": "stream",
     "text": [
      "--- Iter 1 ---\n",
      "Tr_root upper bound:188.99999999999997\n",
      "Tr_root lower bound:-19.999999999999982\n",
      "Belief Expand Process\n",
      "BackUp Process\n",
      "--- Iter 2 ---\n",
      "Tr_root upper bound:171.2914054753474\n",
      "Tr_root lower bound:-51.329219910025856\n",
      "Belief Expand Process\n",
      "BackUp Process\n",
      "--- Iter 3 ---\n",
      "Tr_root upper bound:161.9351238139034\n",
      "Tr_root lower bound:-4.364037611784508\n",
      "Belief Expand Process\n",
      "BackUp Process\n",
      "--- Iter 4 ---\n",
      "Tr_root upper bound:158.73811640346685\n",
      "Tr_root lower bound:9.687569089546162\n",
      "Belief Expand Process\n",
      "BackUp Process\n",
      "--- Iter 5 ---\n",
      "Tr_root upper bound:155.64070730633068\n",
      "Tr_root lower bound:12.268906406515013\n",
      "Belief Expand Process\n",
      "BackUp Process\n",
      "--- Iter 6 ---\n",
      "Tr_root upper bound:155.41168809212343\n",
      "Tr_root lower bound:14.279056282277821\n",
      "Belief Expand Process\n",
      "BackUp Process\n",
      "--- Iter 7 ---\n",
      "Tr_root upper bound:154.92975216376814\n",
      "Tr_root lower bound:14.654610250646998\n",
      "Belief Expand Process\n",
      "BackUp Process\n",
      "--- Iter 8 ---\n",
      "Tr_root upper bound:153.5622144479765\n",
      "Tr_root lower bound:16.02969647950329\n",
      "Belief Expand Process\n",
      "BackUp Process\n",
      "--- Iter 9 ---\n",
      "Tr_root upper bound:152.37667284272848\n",
      "Tr_root lower bound:16.551223430651234\n",
      "Belief Expand Process\n",
      "BackUp Process\n",
      "--- Iter 10 ---\n",
      "Tr_root upper bound:151.39461621979635\n",
      "Tr_root lower bound:16.591123863142457\n",
      "Belief Expand Process\n",
      "BackUp Process\n",
      "--- Iter 11 ---\n",
      "Tr_root upper bound:151.30549060513474\n",
      "Tr_root lower bound:16.740783503358514\n",
      "Belief Expand Process\n",
      "BackUp Process\n",
      "--- Iter 12 ---\n",
      "Tr_root upper bound:149.8790613045625\n",
      "Tr_root lower bound:17.97932228254515\n",
      "Belief Expand Process\n"
     ]
    }
   ],
   "source": [
    "MCVIPlanning(b0_particles, fsc, pomdp, RL, 40, 500, 0.1, 30, Q_learning_policy, root_b_tree_node)"
   ]
  },
  {
   "cell_type": "code",
   "execution_count": null,
   "metadata": {},
   "outputs": [],
   "source": [
    "SimulationWithFSC(b0, pomdp, fsc, 20)"
   ]
  },
  {
   "cell_type": "code",
   "execution_count": null,
   "metadata": {},
   "outputs": [],
   "source": [
    "EvaluationWithSimulationFSC(b0, pomdp, fsc, discount(pomdp), 10000, 40)"
   ]
  },
  {
   "cell_type": "code",
   "execution_count": null,
   "metadata": {},
   "outputs": [],
   "source": []
  },
  {
   "cell_type": "code",
   "execution_count": null,
   "metadata": {},
   "outputs": [],
   "source": []
  }
 ],
 "metadata": {
  "kernelspec": {
   "display_name": "Julia 1.10.0",
   "language": "julia",
   "name": "julia-1.10"
  },
  "language_info": {
   "file_extension": ".jl",
   "mimetype": "application/julia",
   "name": "julia",
   "version": "1.10.0"
  }
 },
 "nbformat": 4,
 "nbformat_minor": 4
}
