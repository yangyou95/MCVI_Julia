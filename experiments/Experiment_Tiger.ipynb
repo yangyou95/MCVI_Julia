{
 "cells": [
  {
   "cell_type": "code",
   "execution_count": 27,
   "metadata": {},
   "outputs": [
    {
     "data": {
      "text/plain": [
       "EvaluationWithSimulationFSC (generic function with 1 method)"
      ]
     },
     "execution_count": 27,
     "metadata": {},
     "output_type": "execute_result"
    }
   ],
   "source": [
    "include(\"../../MCVI_Julia/src/Planner.jl\")\n",
    "# using Plots\n",
    "# using RockSample"
   ]
  },
  {
   "cell_type": "code",
   "execution_count": null,
   "metadata": {},
   "outputs": [],
   "source": []
  },
  {
   "cell_type": "code",
   "execution_count": 2,
   "metadata": {},
   "outputs": [
    {
     "data": {
      "text/plain": [
       "FSC(Dict{Pair{Any, Int64}, Int64}[Dict(), Dict(), Dict(), Dict(), Dict(), Dict(), Dict(), Dict(), Dict(), Dict()  …  Dict(), Dict(), Dict(), Dict(), Dict(), Dict(), Dict(), Dict(), Dict(), Dict()], FscNode[], [0, 1, 2], (false, true))"
      ]
     },
     "execution_count": 2,
     "metadata": {},
     "output_type": "execute_result"
    }
   ],
   "source": [
    "pomdp = TigerPOMDP()\n",
    "# pomdp = RockSamplePOMDP(15,15)\n",
    "# pomdp = RockSamplePOMDP(11,11)\n",
    "# pomdp = RockSamplePOMDP(7,8)\n",
    "\n",
    "# action_space = actions(pomdp)\n",
    "obs_space = observations(pomdp)\n",
    "\n",
    "nb_particles_b0 = 500\n",
    "max_node_size = 10000\n",
    "\n",
    "action_space = collect(actions(pomdp))\n",
    "b0 = initialstate(pomdp)\n",
    "b0_particles = []\n",
    "for i in 1:nb_particles_b0\n",
    "    push!(b0_particles, rand(b0))\n",
    "end\n",
    "\n",
    "# obs_ = collect(observations(pomdp))\n",
    "# length(b0)\n",
    "fsc = InitFSC(max_node_size, action_space, obs_space)"
   ]
  },
  {
   "cell_type": "code",
   "execution_count": 3,
   "metadata": {},
   "outputs": [
    {
     "data": {
      "text/plain": [
       "3-element Vector{Int64}:\n",
       " 0\n",
       " 1\n",
       " 2"
      ]
     },
     "execution_count": 3,
     "metadata": {},
     "output_type": "execute_result"
    }
   ],
   "source": [
    "action_space"
   ]
  },
  {
   "cell_type": "code",
   "execution_count": 4,
   "metadata": {},
   "outputs": [
    {
     "data": {
      "text/plain": [
       "-19.999999999999982"
      ]
     },
     "execution_count": 4,
     "metadata": {},
     "output_type": "execute_result"
    }
   ],
   "source": [
    "RL = FindRLower(pomdp, b0_particles, action_space)"
   ]
  },
  {
   "cell_type": "code",
   "execution_count": 5,
   "metadata": {},
   "outputs": [
    {
     "data": {
      "text/plain": [
       "Dict{Any, Any} with 2 entries:\n",
       "  false => Bool[0, 0, 0, 0, 0, 1, 0, 0, 0, 0  …  1, 0, 1, 1, 0, 0, 0, 0, 1, 1]\n",
       "  true  => Bool[1, 0, 1, 0, 1, 1, 1, 0, 1, 0  …  0, 0, 0, 1, 1, 1, 0, 0, 0, 0]"
      ]
     },
     "execution_count": 5,
     "metadata": {},
     "output_type": "execute_result"
    }
   ],
   "source": [
    "beliefs = BeliefUpdate(b0_particles, rand(action_space), 100, pomdp)"
   ]
  },
  {
   "cell_type": "code",
   "execution_count": 28,
   "metadata": {},
   "outputs": [
    {
     "data": {
      "text/plain": [
       "BeliefTreeNode(Any[true, true, false, true, true, true, false, true, true, true  …  false, false, true, true, true, true, false, true, true, false], Dict{Pair{Any, Any}, BeliefTreeNode}(), 0.0, 0.0)"
      ]
     },
     "execution_count": 28,
     "metadata": {},
     "output_type": "execute_result"
    }
   ],
   "source": [
    "root_b_tree_node = BeliefTreeNode(b0_particles, Dict{Pair{Any, Any}, BeliefTreeNode}(), 0, 0)"
   ]
  },
  {
   "cell_type": "code",
   "execution_count": 6,
   "metadata": {},
   "outputs": [
    {
     "data": {
      "text/plain": [
       "FSC(Dict{Pair{Any, Int64}, Int64}[Dict(), Dict(), Dict(), Dict(), Dict(), Dict(), Dict(), Dict(), Dict(), Dict()  …  Dict(), Dict(), Dict(), Dict(), Dict(), Dict(), Dict(), Dict(), Dict(), Dict()], FscNode[], [0, 1, 2], (false, true))"
      ]
     },
     "execution_count": 6,
     "metadata": {},
     "output_type": "execute_result"
    }
   ],
   "source": [
    "fsc"
   ]
  },
  {
   "cell_type": "code",
   "execution_count": 7,
   "metadata": {},
   "outputs": [],
   "source": [
    "# node_start = CreatNode(b0_particles, action_space, obs_space)\n",
    "# push!(fsc._nodes, node_start)\n",
    "# nI_start = length(fsc._nodes)"
   ]
  },
  {
   "cell_type": "code",
   "execution_count": 8,
   "metadata": {},
   "outputs": [],
   "source": [
    "# belief_node_list = Vector{Int64}()\n",
    "\n",
    "# ExpandBeliefs(fsc, 1, rand(b0_particles), 10, 0, 10, pomdp, action_space, obs_space,belief_node_list)\n",
    "\n",
    "\n",
    "# for nI in belief_node_list\n",
    "#     BackUp(nI, fsc, 10, 10, pomdp, action_space, obs_space)\n",
    "# end\n",
    "\n",
    "\n",
    "# belief_node_list"
   ]
  },
  {
   "cell_type": "code",
   "execution_count": 9,
   "metadata": {},
   "outputs": [
    {
     "name": "stdout",
     "output_type": "stream",
     "text": [
      "!! Belief Expand Process !!\n",
      "adding new beliefs from node 1 with action 0\n",
      "BackUp Process\n",
      "nI_new 1, V 0.0\n",
      "nI_new 2, V 0.0\n",
      "nI_new 3, V 0.0\n",
      "nI_new 1, V -501.38153916449824\n",
      "nI_new 2, V -483.6491707151208\n",
      "nI_new 3, V -18.611143196255306\n",
      "nI_new 1, V -18.61114319625531\n",
      "nI_new 2, V -18.61114319625531\n",
      "nI_new 3, V -18.61114319625531\n",
      "!! Belief Expand Process !!\n",
      "BackUp Process\n",
      "nI_new 1, V -18.61114319625531\n",
      "nI_new 2, V -18.61114319625531\n",
      "nI_new 3, V -18.61114319625531\n",
      "!! Belief Expand Process !!\n",
      "BackUp Process\n",
      "nI_new 1, V -18.611143196255306\n",
      "nI_new 2, V -18.61114319625531\n",
      "nI_new 3, V -18.61114319625531\n",
      "!! Belief Expand Process !!\n",
      "BackUp Process\n",
      "nI_new 1, V -18.61114319625531\n",
      "nI_new 2, V -18.61114319625531\n",
      "nI_new 3, V -18.611143196255306\n",
      "!! Belief Expand Process !!\n",
      "BackUp Process\n",
      "nI_new 1, V -18.61114319625531\n",
      "nI_new 2, V -18.61114319625531\n",
      "nI_new 3, V -18.61114319625531\n",
      "!! Belief Expand Process !!\n",
      "BackUp Process\n",
      "nI_new 1, V -18.61114319625531\n",
      "nI_new 2, V -18.61114319625531\n",
      "nI_new 3, V -18.61114319625531\n",
      "!! Belief Expand Process !!\n",
      "BackUp Process\n",
      "nI_new 1, V -18.61114319625531\n",
      "nI_new 2, V -18.61114319625531\n",
      "nI_new 3, V -18.611143196255306\n",
      "!! Belief Expand Process !!\n",
      "BackUp Process\n",
      "nI_new 1, V -18.61114319625531\n",
      "nI_new 2, V -18.61114319625531\n",
      "nI_new 3, V -18.61114319625531\n",
      "!! Belief Expand Process !!\n",
      "BackUp Process\n",
      "nI_new 1, V -18.61114319625531\n",
      "nI_new 2, V -18.61114319625531\n",
      "nI_new 3, V -18.61114319625531\n",
      "!! Belief Expand Process !!\n",
      "BackUp Process\n",
      "nI_new 1, V -18.61114319625531\n",
      "nI_new 2, V -18.61114319625531\n",
      "nI_new 3, V -18.611143196255306\n",
      "!! Belief Expand Process !!\n",
      "BackUp Process\n",
      "nI_new 1, V -18.61114319625531\n",
      "nI_new 2, V -18.61114319625531\n",
      "nI_new 3, V -18.611143196255306\n",
      "!! Belief Expand Process !!\n",
      "BackUp Process\n",
      "nI_new 1, V -18.61114319625531\n",
      "nI_new 2, V -18.611143196255306\n",
      "nI_new 3, V -18.611143196255306\n",
      "!! Belief Expand Process !!\n",
      "BackUp Process\n",
      "nI_new 1, V -18.61114319625531\n",
      "nI_new 2, V -18.61114319625531\n",
      "nI_new 3, V -18.61114319625531\n",
      "!! Belief Expand Process !!\n",
      "BackUp Process\n",
      "nI_new 1, V -18.61114319625531\n",
      "nI_new 2, V -18.61114319625531\n",
      "nI_new 3, V -18.61114319625531\n",
      "!! Belief Expand Process !!\n",
      "BackUp Process\n",
      "nI_new 1, V -18.61114319625531\n",
      "nI_new 2, V -18.611143196255306\n",
      "nI_new 3, V -18.611143196255306\n",
      "!! Belief Expand Process !!\n",
      "BackUp Process\n",
      "nI_new 1, V -18.61114319625531\n",
      "nI_new 2, V -18.61114319625531\n",
      "nI_new 3, V -18.61114319625531\n",
      "!! Belief Expand Process !!\n",
      "BackUp Process\n",
      "nI_new 1, V -18.61114319625531\n",
      "nI_new 2, V -18.61114319625531\n",
      "nI_new 3, V -18.611143196255306\n",
      "!! Belief Expand Process !!\n",
      "BackUp Process\n",
      "nI_new 1, V -18.61114319625531\n",
      "nI_new 2, V -18.61114319625531\n",
      "nI_new 3, V -18.611143196255306\n",
      "!! Belief Expand Process !!\n",
      "BackUp Process\n",
      "nI_new 1, V -18.61114319625531\n",
      "nI_new 2, V -18.61114319625531\n",
      "nI_new 3, V -18.61114319625531\n",
      "!! Belief Expand Process !!\n",
      "BackUp Process\n",
      "nI_new 1, V -18.61114319625531\n",
      "nI_new 2, V -18.61114319625531\n",
      "nI_new 3, V -18.611143196255306\n",
      "!! Belief Expand Process !!\n",
      "BackUp Process\n",
      "nI_new 1, V -18.61114319625531\n",
      "nI_new 2, V -18.61114319625531\n",
      "nI_new 3, V -18.611143196255306\n",
      "!! Belief Expand Process !!\n",
      "BackUp Process\n",
      "nI_new 1, V -18.61114319625531\n",
      "nI_new 2, V -18.61114319625531\n",
      "nI_new 3, V -18.611143196255306\n",
      "!! Belief Expand Process !!\n",
      "BackUp Process\n",
      "nI_new 1, V -18.61114319625531\n",
      "nI_new 2, V -18.61114319625531\n",
      "nI_new 3, V -18.611143196255306\n",
      "!! Belief Expand Process !!\n",
      "BackUp Process\n",
      "nI_new 1, V -18.61114319625531\n",
      "nI_new 2, V -18.61114319625531\n",
      "nI_new 3, V -18.611143196255306\n"
     ]
    },
    {
     "ename": "LoadError",
     "evalue": "InterruptException:",
     "output_type": "error",
     "traceback": [
      "InterruptException:",
      "",
      "Stacktrace:",
      " [1] Pair(a::Int64, b::Bool)",
      "   @ Core ./boot.jl:847",
      " [2] SimulateTrajectory(nI::Int64, fsc::FSC, s::Bool, L::Int64, pomdp::TigerPOMDP)",
      "   @ Main ~/MCVI_Julia/src/Planner.jl:68",
      " [3] BackUp(nI_new::Int64, fsc::FSC, RL::Float64, L::Int64, nb_sample::Int64, pomdp::TigerPOMDP, action_space::UnitRange{Int64}, obs_space::Tuple{Bool, Bool})",
      "   @ Main ~/MCVI_Julia/src/Planner.jl:179",
      " [4] MCVIPlanning(b0::Vector{Any}, fsc::FSC, pomdp::TigerPOMDP, RL::Float64, L::Int64, nb_sample::Int64, epsilon::Float64, nb_iter::Int64)",
      "   @ Main ~/MCVI_Julia/src/Planner.jl:324"
     ]
    }
   ],
   "source": [
    "MCVIPlanning(b0_particles, fsc, pomdp, RL, 50, 1000, 0.1, 1000)"
   ]
  },
  {
   "cell_type": "code",
   "execution_count": 10,
   "metadata": {},
   "outputs": [
    {
     "data": {
      "text/plain": [
       "Dict{Any, Float64} with 3 entries:\n",
       "  0 => -18.6111\n",
       "  2 => -25.3211\n",
       "  1 => -100.341"
      ]
     },
     "execution_count": 10,
     "metadata": {},
     "output_type": "execute_result"
    }
   ],
   "source": [
    "fsc._nodes[2]._Q_action"
   ]
  },
  {
   "cell_type": "code",
   "execution_count": 11,
   "metadata": {},
   "outputs": [
    {
     "data": {
      "text/plain": [
       "Dict{Any, Float64}()"
      ]
     },
     "execution_count": 11,
     "metadata": {},
     "output_type": "execute_result"
    }
   ],
   "source": [
    "fsc._nodes[3]._V_node_s"
   ]
  },
  {
   "cell_type": "code",
   "execution_count": 12,
   "metadata": {},
   "outputs": [
    {
     "data": {
      "text/plain": [
       "Dict{Any, Int64}()"
      ]
     },
     "execution_count": 12,
     "metadata": {},
     "output_type": "execute_result"
    }
   ],
   "source": [
    "fsc._nodes[3]._V_node_s_count"
   ]
  },
  {
   "cell_type": "code",
   "execution_count": 13,
   "metadata": {},
   "outputs": [
    {
     "data": {
      "text/plain": [
       "Dict{Any, Dict{Int64, Dict{Int64, Float64}}} with 3 entries:\n",
       "  0 => Dict(0=>Dict(2=>-3689.07, 3=>-3689.07, 1=>-3689.07), 1=>Dict(2=>-13013.7…\n",
       "  2 => Dict(0=>Dict(2=>0.0, 3=>0.0, 1=>0.0), 1=>Dict(2=>0.0, 3=>0.0, 1=>0.0))\n",
       "  1 => Dict(0=>Dict(2=>0.0, 3=>0.0, 1=>0.0), 1=>Dict(2=>0.0, 3=>0.0, 1=>0.0))"
      ]
     },
     "execution_count": 13,
     "metadata": {},
     "output_type": "execute_result"
    }
   ],
   "source": [
    "fsc._nodes[3]._V_a_o_n"
   ]
  },
  {
   "cell_type": "code",
   "execution_count": 14,
   "metadata": {},
   "outputs": [
    {
     "data": {
      "text/plain": [
       "Dict{Pair{Any, Int64}, Int64} with 6 entries:\n",
       "  0=>0 => 1\n",
       "  2=>1 => 2\n",
       "  1=>1 => 2\n",
       "  2=>0 => 2\n",
       "  1=>0 => 3\n",
       "  0=>1 => 1"
      ]
     },
     "execution_count": 14,
     "metadata": {},
     "output_type": "execute_result"
    }
   ],
   "source": [
    "fsc._eta[1]"
   ]
  },
  {
   "cell_type": "code",
   "execution_count": 15,
   "metadata": {},
   "outputs": [
    {
     "name": "stdout",
     "output_type": "stream",
     "text": [
      "---------\n",
      "step: 1\n",
      "state:true\n",
      "perform action:0\n",
      "recieve obs:true\n",
      "nI:1\n",
      "nI value:-18.61114319625531\n",
      "reward:-1.0\n",
      "---------\n",
      "step: 2\n",
      "state:true\n",
      "perform action:0\n",
      "recieve obs:true\n",
      "nI:1\n",
      "nI value:-18.61114319625531\n",
      "reward:-1.0\n",
      "---------\n",
      "step: 3\n",
      "state:true\n",
      "perform action:0\n",
      "recieve obs:false\n",
      "nI:1\n",
      "nI value:-18.61114319625531\n",
      "reward:-1.0\n",
      "---------\n",
      "step: 4\n",
      "state:true\n",
      "perform action:0\n",
      "recieve obs:false\n",
      "nI:1\n",
      "nI value:-18.61114319625531\n",
      "reward:-1.0\n",
      "---------\n",
      "step: 5\n",
      "state:true\n",
      "perform action:0\n",
      "recieve obs:true\n",
      "nI:1\n",
      "nI value:-18.61114319625531\n",
      "reward:-1.0\n",
      "---------\n",
      "step: 6\n",
      "state:true\n",
      "perform action:0\n",
      "recieve obs:true\n",
      "nI:1\n",
      "nI value:-18.61114319625531\n",
      "reward:-1.0\n",
      "---------\n",
      "step: 7\n",
      "state:true\n",
      "perform action:0\n",
      "recieve obs:false\n",
      "nI:1\n",
      "nI value:-18.61114319625531\n",
      "reward:-1.0\n",
      "---------\n",
      "step: 8\n",
      "state:true\n",
      "perform action:0\n",
      "recieve obs:true\n",
      "nI:1\n",
      "nI value:-18.61114319625531\n",
      "reward:-1.0\n",
      "---------\n",
      "step: 9\n",
      "state:true\n",
      "perform action:0\n",
      "recieve obs:true\n",
      "nI:1\n",
      "nI value:-18.61114319625531\n",
      "reward:-1.0\n",
      "---------\n",
      "step: 10\n",
      "state:true\n",
      "perform action:0\n",
      "recieve obs:true\n",
      "nI:1\n",
      "nI value:-18.61114319625531\n",
      "reward:-1.0\n",
      "---------\n",
      "step: 11\n",
      "state:true\n",
      "perform action:0\n",
      "recieve obs:true\n",
      "nI:1\n",
      "nI value:-18.61114319625531\n",
      "reward:-1.0\n",
      "---------\n",
      "step: 12\n",
      "state:true\n",
      "perform action:0\n",
      "recieve obs:true\n",
      "nI:1\n",
      "nI value:-18.61114319625531\n",
      "reward:-1.0\n",
      "---------\n",
      "step: 13\n",
      "state:true\n",
      "perform action:0\n",
      "recieve obs:true\n",
      "nI:1\n",
      "nI value:-18.61114319625531\n",
      "reward:-1.0\n",
      "---------\n",
      "step: 14\n",
      "state:true\n",
      "perform action:0\n",
      "recieve obs:true\n",
      "nI:1\n",
      "nI value:-18.61114319625531\n",
      "reward:-1.0\n",
      "---------\n",
      "step: 15\n",
      "state:true\n",
      "perform action:0\n",
      "recieve obs:true\n",
      "nI:1\n",
      "nI value:-18.61114319625531\n",
      "reward:-1.0\n",
      "---------\n",
      "step: 16\n",
      "state:true\n",
      "perform action:0\n",
      "recieve obs:true\n",
      "nI:1\n",
      "nI value:-18.61114319625531\n",
      "reward:-1.0\n",
      "---------\n",
      "step: 17\n",
      "state:true\n",
      "perform action:0\n",
      "recieve obs:true\n",
      "nI:1\n",
      "nI value:-18.61114319625531\n",
      "reward:-1.0\n",
      "---------\n",
      "step: 18\n",
      "state:true\n",
      "perform action:0\n",
      "recieve obs:true\n",
      "nI:1\n",
      "nI value:-18.61114319625531\n",
      "reward:-1.0\n",
      "---------\n",
      "step: 19\n",
      "state:true\n",
      "perform action:0\n",
      "recieve obs:true\n",
      "nI:1\n",
      "nI value:-18.61114319625531\n",
      "reward:-1.0\n",
      "---------\n",
      "step: 20\n",
      "state:true\n",
      "perform action:0\n",
      "recieve obs:true\n",
      "nI:1\n",
      "nI value:-18.61114319625531\n",
      "reward:-1.0\n",
      "---------\n",
      "step: 21\n",
      "state:true\n",
      "perform action:0\n",
      "recieve obs:false\n",
      "nI:1\n",
      "nI value:-18.61114319625531\n",
      "reward:-1.0\n",
      "---------\n",
      "step: 22\n",
      "state:true\n",
      "perform action:0\n",
      "recieve obs:true\n",
      "nI:1\n",
      "nI value:-18.61114319625531\n",
      "reward:-1.0\n",
      "---------\n",
      "step: 23\n",
      "state:true\n",
      "perform action:0\n",
      "recieve obs:false\n",
      "nI:1\n",
      "nI value:-18.61114319625531\n",
      "reward:-1.0\n",
      "---------\n",
      "step: 24\n",
      "state:true\n",
      "perform action:0\n",
      "recieve obs:false\n",
      "nI:1\n",
      "nI value:-18.61114319625531\n",
      "reward:-1.0\n",
      "---------\n",
      "step: 25\n",
      "state:true\n",
      "perform action:0\n",
      "recieve obs:true\n",
      "nI:1\n",
      "nI value:-18.61114319625531\n",
      "reward:-1.0\n",
      "---------\n",
      "step: 26\n",
      "state:true\n",
      "perform action:0\n",
      "recieve obs:true\n",
      "nI:1\n",
      "nI value:-18.61114319625531\n",
      "reward:-1.0\n",
      "---------\n",
      "step: 27\n",
      "state:true\n",
      "perform action:0\n",
      "recieve obs:true\n",
      "nI:1\n",
      "nI value:-18.61114319625531\n",
      "reward:-1.0\n",
      "---------\n",
      "step: 28\n",
      "state:true\n",
      "perform action:0\n",
      "recieve obs:true\n",
      "nI:1\n",
      "nI value:-18.61114319625531\n",
      "reward:-1.0\n",
      "---------\n",
      "step: 29\n",
      "state:true\n",
      "perform action:0\n",
      "recieve obs:true\n",
      "nI:1\n",
      "nI value:-18.61114319625531\n",
      "reward:-1.0\n",
      "---------\n",
      "step: 30\n",
      "state:true\n",
      "perform action:0\n",
      "recieve obs:true\n",
      "nI:1\n",
      "nI value:-18.61114319625531\n",
      "reward:-1.0\n",
      "---------\n",
      "step: 31\n",
      "state:true\n",
      "perform action:0\n",
      "recieve obs:true\n",
      "nI:1\n",
      "nI value:-18.61114319625531\n",
      "reward:-1.0\n",
      "---------\n",
      "step: 32\n",
      "state:true\n",
      "perform action:0\n",
      "recieve obs:true\n",
      "nI:1\n",
      "nI value:-18.61114319625531\n",
      "reward:-1.0\n",
      "---------\n",
      "step: 33\n",
      "state:true\n",
      "perform action:0\n",
      "recieve obs:true\n",
      "nI:1\n",
      "nI value:-18.61114319625531\n",
      "reward:-1.0\n",
      "---------\n",
      "step: 34\n",
      "state:true\n",
      "perform action:0\n",
      "recieve obs:true\n",
      "nI:1\n",
      "nI value:-18.61114319625531\n",
      "reward:-1.0\n",
      "---------\n",
      "step: 35\n",
      "state:true\n",
      "perform action:0\n",
      "recieve obs:true\n",
      "nI:1\n",
      "nI value:-18.61114319625531\n",
      "reward:-1.0\n",
      "---------\n",
      "step: 36\n",
      "state:true\n",
      "perform action:0\n",
      "recieve obs:true\n",
      "nI:1\n",
      "nI value:-18.61114319625531\n",
      "reward:-1.0\n",
      "---------\n",
      "step: 37\n",
      "state:true\n",
      "perform action:0\n",
      "recieve obs:true\n",
      "nI:1\n",
      "nI value:-18.61114319625531\n",
      "reward:-1.0\n",
      "---------\n",
      "step: 38\n",
      "state:true\n",
      "perform action:0\n",
      "recieve obs:true\n",
      "nI:1\n",
      "nI value:-18.61114319625531\n",
      "reward:-1.0\n",
      "---------\n",
      "step: 39\n",
      "state:true\n",
      "perform action:0\n",
      "recieve obs:false\n",
      "nI:1\n",
      "nI value:-18.61114319625531\n",
      "reward:-1.0\n",
      "---------\n",
      "step: 40\n",
      "state:true\n",
      "perform action:0\n",
      "recieve obs:true\n",
      "nI:1\n",
      "nI value:-18.61114319625531\n",
      "reward:-1.0\n",
      "sum_r:-16.558269025263026\n"
     ]
    }
   ],
   "source": [
    "SimulationWithFSC(b0, pomdp, fsc, 40)"
   ]
  },
  {
   "cell_type": "code",
   "execution_count": 16,
   "metadata": {},
   "outputs": [
    {
     "name": "stdout",
     "output_type": "stream",
     "text": [
      "avg sum:-19.802232705810994\n",
      "avg sum valid search:-19.802232705810994\n",
      "unvalid search:0.0\n"
     ]
    }
   ],
   "source": [
    "EvaluationWithSimulationFSC(b0, pomdp, fsc, discount(pomdp), 10000)"
   ]
  },
  {
   "cell_type": "code",
   "execution_count": 17,
   "metadata": {},
   "outputs": [
    {
     "ename": "LoadError",
     "evalue": "UndefVarError: `a_set` not defined",
     "output_type": "error",
     "traceback": [
      "UndefVarError: `a_set` not defined",
      "",
      "Stacktrace:",
      " [1] top-level scope",
      "   @ In[17]:1"
     ]
    }
   ],
   "source": [
    "1 in a_set"
   ]
  },
  {
   "cell_type": "code",
   "execution_count": 18,
   "metadata": {},
   "outputs": [
    {
     "data": {
      "text/plain": [
       "2"
      ]
     },
     "execution_count": 18,
     "metadata": {},
     "output_type": "execute_result"
    }
   ],
   "source": [
    "max(1,2)"
   ]
  },
  {
   "cell_type": "code",
   "execution_count": 19,
   "metadata": {},
   "outputs": [
    {
     "data": {
      "text/plain": [
       "Dict{Pair{Any, Int64}, Int64} with 6 entries:\n",
       "  0=>0 => 1\n",
       "  2=>1 => 1\n",
       "  1=>1 => 1\n",
       "  2=>0 => 1\n",
       "  1=>0 => 1\n",
       "  0=>1 => 1"
      ]
     },
     "execution_count": 19,
     "metadata": {},
     "output_type": "execute_result"
    }
   ],
   "source": [
    "fsc._eta[3]"
   ]
  },
  {
   "cell_type": "code",
   "execution_count": 20,
   "metadata": {},
   "outputs": [
    {
     "data": {
      "text/plain": [
       "Dict{Any, Int64}()"
      ]
     },
     "execution_count": 20,
     "metadata": {},
     "output_type": "execute_result"
    }
   ],
   "source": [
    "fsc._nodes[1]._V_node_s_count"
   ]
  },
  {
   "cell_type": "code",
   "execution_count": 21,
   "metadata": {},
   "outputs": [],
   "source": [
    "# maybe it's the time not enough for computing a full policy"
   ]
  },
  {
   "cell_type": "code",
   "execution_count": 22,
   "metadata": {},
   "outputs": [
    {
     "data": {
      "text/plain": [
       "-0.9765456928594205"
      ]
     },
     "execution_count": 22,
     "metadata": {},
     "output_type": "execute_result"
    }
   ],
   "source": [
    "SimulateTrajectory(1, fsc, rand(b0_particles), 0, RL, discount(pomdp), 20, pomdp)"
   ]
  },
  {
   "cell_type": "code",
   "execution_count": 23,
   "metadata": {},
   "outputs": [
    {
     "data": {
      "text/plain": [
       "Dict{Any, Int64} with 1 entry:\n",
       "  true => 21"
      ]
     },
     "execution_count": 23,
     "metadata": {},
     "output_type": "execute_result"
    }
   ],
   "source": [
    "fsc._nodes[1]._V_node_s_count"
   ]
  },
  {
   "cell_type": "code",
   "execution_count": null,
   "metadata": {},
   "outputs": [],
   "source": []
  }
 ],
 "metadata": {
  "kernelspec": {
   "display_name": "Julia 1.10.0",
   "language": "julia",
   "name": "julia-1.10"
  },
  "language_info": {
   "file_extension": ".jl",
   "mimetype": "application/julia",
   "name": "julia",
   "version": "1.10.0"
  }
 },
 "nbformat": 4,
 "nbformat_minor": 4
}
