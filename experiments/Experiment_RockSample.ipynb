{
 "cells": [
  {
   "cell_type": "code",
   "execution_count": 1,
   "metadata": {},
   "outputs": [],
   "source": [
    "include(\"../../MCVI_Julia/src/Planner.jl\")\n",
    "using Plots\n",
    "using RockSample"
   ]
  },
  {
   "cell_type": "markdown",
   "metadata": {},
   "source": [
    "## 1. First prepare the POMDP and some basic parameters"
   ]
  },
  {
   "cell_type": "code",
   "execution_count": 2,
   "metadata": {},
   "outputs": [],
   "source": [
    "pomdp = RockSamplePOMDP(7,8)\n",
    "\n",
    "action_space = actions(pomdp)\n",
    "obs_space = observations(pomdp)\n",
    "\n",
    "nb_particles_b0 = 500\n",
    "max_node_size = 10000\n",
    "\n",
    "b0 = initialstate(pomdp)\n",
    "b0_particles = []\n",
    "for i in 1:nb_particles_b0\n",
    "    push!(b0_particles, rand(b0))\n",
    "end"
   ]
  },
  {
   "cell_type": "markdown",
   "metadata": {},
   "source": [
    "## 2. Prepare $V_{mdp}$ heuristic"
   ]
  },
  {
   "cell_type": "code",
   "execution_count": 3,
   "metadata": {},
   "outputs": [
    {
     "name": "stdout",
     "output_type": "stream",
     "text": [
      "------ Episode: 0 ------\n",
      "Avg Value: 27.181383580569968\n",
      "------ Episode: 1 ------\n",
      "Avg Value: 29.38011485954121\n",
      "------ Episode: 2 ------\n",
      "Avg Value: 29.382742853502215\n"
     ]
    }
   ],
   "source": [
    "# define Q learning\n",
    "Q_table = Dict{Any, Dict{Int64, Float64}}()\n",
    "learning_rate = 0.9\n",
    "explore_rate = 0.65\n",
    "nb_particles_b0 = 10000\n",
    "\n",
    "b0_particles = []\n",
    "for i in 1:nb_particles_b0\n",
    "    push!(b0_particles, rand(b0))\n",
    "end\n",
    "Q_learning_policy = Qlearning(Q_table, learning_rate, explore_rate, action_space)\n",
    "RL = FindRLower(pomdp, b0, action_space)\n",
    "\n",
    "nb_episode_size = 5\n",
    "nb_max_episode = 5\n",
    "nb_sim = 20\n",
    "epsilon_Q_learning = 0.01\n",
    "Training(Q_learning_policy, nb_episode_size, nb_max_episode, nb_sim, epsilon_Q_learning, b0_particles, pomdp)"
   ]
  },
  {
   "cell_type": "markdown",
   "metadata": {},
   "source": [
    "## 3. Create initial FSC and belief Tree Node"
   ]
  },
  {
   "cell_type": "code",
   "execution_count": 4,
   "metadata": {},
   "outputs": [
    {
     "data": {
      "text/plain": [
       "FSC(Dict{Pair{Any, Any}, Int64}[Dict(), Dict(), Dict(), Dict(), Dict(), Dict(), Dict(), Dict(), Dict(), Dict()  …  Dict(), Dict(), Dict(), Dict(), Dict(), Dict(), Dict(), Dict(), Dict(), Dict()], FscNode[], 1:13, 1:3, 1)"
      ]
     },
     "execution_count": 4,
     "metadata": {},
     "output_type": "execute_result"
    }
   ],
   "source": [
    "a, U = EvaluateUpperBound(b0_particles, Q_learning_policy)\n",
    "root_b_tree_node = BeliefTreeNode(b0_particles, Dict{Pair{Any, Any}, BeliefTreeNode}(), a, Dict{Any, Float64}(),Dict{Any, Dict{Any,Float64}}(),U, RL, -1)\n",
    "fsc = InitFSC(max_node_size, action_space, obs_space)"
   ]
  },
  {
   "cell_type": "markdown",
   "metadata": {},
   "source": [
    "## 4. MCVI planning"
   ]
  },
  {
   "cell_type": "code",
   "execution_count": null,
   "metadata": {
    "scrolled": true
   },
   "outputs": [
    {
     "name": "stdout",
     "output_type": "stream",
     "text": [
      "--- Iter 1 ---\n",
      "Tr_root upper bound:27.913653164665757\n",
      "Tr_root lower bound:0.0\n",
      "Belief Expand Process\n",
      "BackUp Process\n",
      "--- Iter 2 ---\n",
      "Tr_root upper bound:27.913653164665757\n",
      "Tr_root lower bound:0.8318276663799246\n",
      "Belief Expand Process\n",
      "BackUp Process\n",
      "--- Iter 3 ---\n",
      "Tr_root upper bound:27.913653164665757\n",
      "Tr_root lower bound:1.1701841980573264\n",
      "Belief Expand Process\n",
      "BackUp Process\n",
      "--- Iter 4 ---\n",
      "Tr_root upper bound:27.913653164665757\n",
      "Tr_root lower bound:4.8758302815518295\n",
      "Belief Expand Process\n",
      "BackUp Process\n",
      "--- Iter 5 ---\n",
      "Tr_root upper bound:27.16139015997948\n",
      "Tr_root lower bound:6.800098522554832\n",
      "Belief Expand Process\n",
      "BackUp Process\n",
      "--- Iter 6 ---\n",
      "Tr_root upper bound:26.768925317126506\n",
      "Tr_root lower bound:8.560273938999988\n",
      "Belief Expand Process\n",
      "BackUp Process\n",
      "--- Iter 7 ---\n",
      "Tr_root upper bound:26.768925317126506\n",
      "Tr_root lower bound:8.830492009309639\n",
      "Belief Expand Process\n",
      "BackUp Process\n",
      "--- Iter 8 ---\n",
      "Tr_root upper bound:26.768925317126506\n",
      "Tr_root lower bound:8.583911103005542\n",
      "Belief Expand Process\n",
      "BackUp Process\n",
      "--- Iter 9 ---\n",
      "Tr_root upper bound:26.768925317126506\n",
      "Tr_root lower bound:8.849069387908255\n",
      "Belief Expand Process\n",
      "BackUp Process\n",
      "--- Iter 10 ---\n",
      "Tr_root upper bound:26.37687454162809\n",
      "Tr_root lower bound:9.000287375210435\n",
      "Belief Expand Process\n",
      "BackUp Process\n",
      "--- Iter 11 ---\n",
      "Tr_root upper bound:26.768925317126506\n",
      "Tr_root lower bound:8.83562195911386\n",
      "Belief Expand Process\n",
      "BackUp Process\n",
      "--- Iter 12 ---\n",
      "Tr_root upper bound:26.892525736228173\n",
      "Tr_root lower bound:8.84606135497426\n",
      "Belief Expand Process\n",
      "BackUp Process\n",
      "--- Iter 13 ---\n",
      "Tr_root upper bound:26.892525736228173\n",
      "Tr_root lower bound:9.436382076104179\n",
      "Belief Expand Process\n",
      "BackUp Process\n",
      "--- Iter 14 ---\n",
      "Tr_root upper bound:26.854620258500134\n",
      "Tr_root lower bound:11.796750139360494\n",
      "Belief Expand Process\n"
     ]
    }
   ],
   "source": [
    "MCVIPlanning(b0_particles, fsc, pomdp, RL, 20, 500, 0.1, 20, Q_learning_policy, root_b_tree_node)"
   ]
  },
  {
   "cell_type": "markdown",
   "metadata": {},
   "source": [
    "## 4. Evaluation"
   ]
  },
  {
   "cell_type": "code",
   "execution_count": null,
   "metadata": {},
   "outputs": [],
   "source": [
    "SimulationWithFSC(b0, pomdp, fsc, 20) # Simulate One Time"
   ]
  },
  {
   "cell_type": "code",
   "execution_count": null,
   "metadata": {},
   "outputs": [],
   "source": [
    "EvaluationWithSimulationFSC(b0, pomdp, fsc, discount(pomdp), 10000)"
   ]
  },
  {
   "cell_type": "code",
   "execution_count": null,
   "metadata": {},
   "outputs": [],
   "source": [
    "EvaluationWithSimulationFSC(b0, pomdp, fsc, discount(pomdp), 1000, 50)"
   ]
  },
  {
   "cell_type": "code",
   "execution_count": null,
   "metadata": {},
   "outputs": [],
   "source": []
  },
  {
   "cell_type": "code",
   "execution_count": null,
   "metadata": {},
   "outputs": [],
   "source": [
    "fsc._nodes"
   ]
  },
  {
   "cell_type": "code",
   "execution_count": null,
   "metadata": {},
   "outputs": [],
   "source": [
    "fsc._eta"
   ]
  },
  {
   "cell_type": "code",
   "execution_count": null,
   "metadata": {},
   "outputs": [],
   "source": []
  }
 ],
 "metadata": {
  "kernelspec": {
   "display_name": "Julia 1.10.0",
   "language": "julia",
   "name": "julia-1.10"
  },
  "language_info": {
   "file_extension": ".jl",
   "mimetype": "application/julia",
   "name": "julia",
   "version": "1.10.0"
  }
 },
 "nbformat": 4,
 "nbformat_minor": 4
}
