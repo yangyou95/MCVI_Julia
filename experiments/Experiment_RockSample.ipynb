{
 "cells": [
  {
   "cell_type": "code",
   "execution_count": 1,
   "metadata": {},
   "outputs": [],
   "source": [
    "include(\"../../MCVI_Julia/src/Planner.jl\")\n",
    "using Plots\n",
    "using RockSample"
   ]
  },
  {
   "cell_type": "markdown",
   "metadata": {},
   "source": [
    "## 1. First prepare the POMDP and some basic parameters"
   ]
  },
  {
   "cell_type": "code",
   "execution_count": 2,
   "metadata": {},
   "outputs": [],
   "source": [
    "pomdp = RockSamplePOMDP(7,8)\n",
    "\n",
    "action_space = actions(pomdp)\n",
    "obs_space = observations(pomdp)\n",
    "\n",
    "nb_particles_b0 = 500\n",
    "max_node_size = 10000\n",
    "\n",
    "b0 = initialstate(pomdp)\n",
    "b0_particles = []\n",
    "for i in 1:nb_particles_b0\n",
    "    push!(b0_particles, rand(b0))\n",
    "end"
   ]
  },
  {
   "cell_type": "markdown",
   "metadata": {},
   "source": [
    "## 2. Prepare $V_{mdp}$ heuristic"
   ]
  },
  {
   "cell_type": "code",
   "execution_count": 3,
   "metadata": {},
   "outputs": [
    {
     "name": "stdout",
     "output_type": "stream",
     "text": [
      "------ Episode: 0 ------\n",
      "Avg Value: 30.37761804170949\n",
      "------ Episode: 1 ------\n",
      "Avg Value: 31.747580182056407\n",
      "------ Episode: 2 ------\n",
      "Avg Value: 31.753876747761627\n"
     ]
    }
   ],
   "source": [
    "# define Q learning\n",
    "Q_table = Dict{Any, Dict{Int64, Float64}}()\n",
    "learning_rate = 0.9\n",
    "explore_rate = 0.65\n",
    "nb_particles_b0 = 10000\n",
    "\n",
    "b0_particles = []\n",
    "for i in 1:nb_particles_b0\n",
    "    push!(b0_particles, rand(b0))\n",
    "end\n",
    "Q_learning_policy = Qlearning(Q_table, learning_rate, explore_rate, action_space)\n",
    "RL = FindRLower(pomdp, b0, action_space)\n",
    "\n",
    "nb_episode_size = 5\n",
    "nb_max_episode = 5\n",
    "nb_sim = 20\n",
    "epsilon_Q_learning = 0.01\n",
    "Training(Q_learning_policy, nb_episode_size, nb_max_episode, nb_sim, epsilon_Q_learning, b0_particles, pomdp)"
   ]
  },
  {
   "cell_type": "markdown",
   "metadata": {},
   "source": [
    "## 3. Create initial FSC and belief Tree Node"
   ]
  },
  {
   "cell_type": "code",
   "execution_count": 4,
   "metadata": {},
   "outputs": [
    {
     "data": {
      "text/plain": [
       "FSC(Dict{Pair{Any, Any}, Int64}[Dict(), Dict(), Dict(), Dict(), Dict(), Dict(), Dict(), Dict(), Dict(), Dict()  …  Dict(), Dict(), Dict(), Dict(), Dict(), Dict(), Dict(), Dict(), Dict(), Dict()], FscNode[], 1:13, 1:3, 1)"
      ]
     },
     "execution_count": 4,
     "metadata": {},
     "output_type": "execute_result"
    }
   ],
   "source": [
    "a, U = EvaluateUpperBound(b0_particles, Q_learning_policy)\n",
    "root_b_tree_node = BeliefTreeNode(b0_particles, Dict{Pair{Any, Any}, BeliefTreeNode}(), a, Dict{Any, Float64}(),U, RL, -1)\n",
    "fsc = InitFSC(max_node_size, action_space, obs_space)"
   ]
  },
  {
   "cell_type": "markdown",
   "metadata": {},
   "source": [
    "## 4. MCVI planning"
   ]
  },
  {
   "cell_type": "code",
   "execution_count": null,
   "metadata": {
    "scrolled": true
   },
   "outputs": [
    {
     "name": "stdout",
     "output_type": "stream",
     "text": [
      "--- Iter 1 ---\n",
      "Tr_root upper bound:31.76204866367206\n",
      "Tr_root lower bound:0.0\n",
      "Belief Expand Process\n",
      "BackUp Process\n",
      "--- Iter 2 ---\n",
      "Tr_root upper bound:31.76204866367206\n",
      "Tr_root lower bound:8.061863745304231\n",
      "Belief Expand Process\n",
      "BackUp Process\n",
      "--- Iter 3 ---\n",
      "Tr_root upper bound:31.76204866367206\n",
      "Tr_root lower bound:7.701389207614878\n",
      "Belief Expand Process\n",
      "BackUp Process\n",
      "--- Iter 4 ---\n",
      "Tr_root upper bound:31.76204866367206\n",
      "Tr_root lower bound:7.643257963315218\n",
      "Belief Expand Process\n",
      "BackUp Process\n",
      "--- Iter 5 ---\n",
      "Tr_root upper bound:31.76204866367206\n",
      "Tr_root lower bound:7.729216772485968\n",
      "Belief Expand Process\n",
      "BackUp Process\n",
      "--- Iter 6 ---\n",
      "Tr_root upper bound:31.76204866367206\n",
      "Tr_root lower bound:9.625840249923861\n",
      "Belief Expand Process\n",
      "BackUp Process\n",
      "--- Iter 7 ---\n",
      "Tr_root upper bound:31.76204866367206\n",
      "Tr_root lower bound:9.887235045841415\n",
      "Belief Expand Process\n",
      "BackUp Process\n",
      "--- Iter 8 ---\n",
      "Tr_root upper bound:31.76204866367206\n",
      "Tr_root lower bound:12.841460083405593\n",
      "Belief Expand Process\n",
      "BackUp Process\n",
      "--- Iter 9 ---\n",
      "Tr_root upper bound:31.76204866367206\n",
      "Tr_root lower bound:13.995189466455347\n",
      "Belief Expand Process\n",
      "BackUp Process\n",
      "--- Iter 10 ---\n",
      "Tr_root upper bound:31.76204866367206\n",
      "Tr_root lower bound:14.523645834539355\n",
      "Belief Expand Process\n",
      "BackUp Process\n",
      "--- Iter 11 ---\n",
      "Tr_root upper bound:31.76204866367206\n",
      "Tr_root lower bound:15.209558024510603\n",
      "Belief Expand Process\n"
     ]
    }
   ],
   "source": [
    "MCVIPlanning(b0_particles, fsc, pomdp, RL, 30, 200, 0.1, 30, Q_learning_policy, root_b_tree_node)"
   ]
  },
  {
   "cell_type": "markdown",
   "metadata": {},
   "source": [
    "## 4. Evaluation"
   ]
  },
  {
   "cell_type": "code",
   "execution_count": null,
   "metadata": {},
   "outputs": [],
   "source": [
    "SimulationWithFSC(b0, pomdp, fsc, 20) # Simulate One Time"
   ]
  },
  {
   "cell_type": "code",
   "execution_count": null,
   "metadata": {},
   "outputs": [],
   "source": [
    "EvaluationWithSimulationFSC(b0, pomdp, fsc, discount(pomdp), 10000)"
   ]
  },
  {
   "cell_type": "code",
   "execution_count": null,
   "metadata": {},
   "outputs": [],
   "source": [
    "EvaluationWithSimulationFSC(b0, pomdp, fsc, discount(pomdp), 1000, 50)"
   ]
  },
  {
   "cell_type": "code",
   "execution_count": null,
   "metadata": {},
   "outputs": [],
   "source": []
  },
  {
   "cell_type": "code",
   "execution_count": null,
   "metadata": {},
   "outputs": [],
   "source": [
    "fsc._nodes[1]"
   ]
  },
  {
   "cell_type": "code",
   "execution_count": null,
   "metadata": {},
   "outputs": [],
   "source": [
    "fsc._eta"
   ]
  },
  {
   "cell_type": "code",
   "execution_count": null,
   "metadata": {},
   "outputs": [],
   "source": []
  }
 ],
 "metadata": {
  "kernelspec": {
   "display_name": "Julia 1.9.4",
   "language": "julia",
   "name": "julia-1.9"
  },
  "language_info": {
   "file_extension": ".jl",
   "mimetype": "application/julia",
   "name": "julia",
   "version": "1.9.4"
  }
 },
 "nbformat": 4,
 "nbformat_minor": 4
}
